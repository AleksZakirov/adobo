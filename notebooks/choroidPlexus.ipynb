{
 "cells": [
  {
   "cell_type": "markdown",
   "metadata": {},
   "source": [
    "# Sample data from the Choroid plexus\n",
    "Data comes from [GEO (GSM3687214)](https://www.ncbi.nlm.nih.gov/geo/query/acc.cgi?acc=GSM3687214), and the data are included the the default adobo installation.\n",
    "\n",
    "First we need to load the Python package:"
   ]
  },
  {
   "cell_type": "code",
   "execution_count": 1,
   "metadata": {},
   "outputs": [
    {
     "name": "stdout",
     "output_type": "stream",
     "text": [
      "adobo version 0.2.38. Documentation: https://oscar-franzen.github.io/adobo/\n"
     ]
    }
   ],
   "source": [
    "import adobo as ad"
   ]
  },
  {
   "cell_type": "markdown",
   "metadata": {},
   "source": [
    "### Load the gene expression data\n",
    "The parameter `bundled=True` makes adobo aware that this dataset is sample data and the user does not need to worry about paths. The `desc` parameter can be used to set a description of the dataset, can be a long description or a mnemonic. The `verbose=True` can be omitted, but instructs adobo to be more talkative."
   ]
  },
  {
   "cell_type": "code",
   "execution_count": 2,
   "metadata": {},
   "outputs": [
    {
     "name": "stdout",
     "output_type": "stream",
     "text": [
      "Using a sparse matrix structure, please wait\n",
      "Generating cell summary statistics...\n",
      "Memory usage of loaded data: 83.51 MB\n",
      "27,998 genes and 4,055 cells were loaded\n",
      "loading took 0.2 minutes\n"
     ]
    }
   ],
   "source": [
    "exp = ad.IO.load_from_file('GSM3687214_countTable_K11_choroidPlexus_wt.txt.gz',\n",
    "                           output_file='GSM3687214.joblib',\n",
    "                           verbose=True,\n",
    "                           desc='Sample data (GSM3687214; Choroid plexus)',\n",
    "                           bundled=True)"
   ]
  }
 ],
 "metadata": {
  "kernelspec": {
   "display_name": "Python 3",
   "language": "python",
   "name": "python3"
  },
  "language_info": {
   "codemirror_mode": {
    "name": "ipython",
    "version": 3
   },
   "file_extension": ".py",
   "mimetype": "text/x-python",
   "name": "python",
   "nbconvert_exporter": "python",
   "pygments_lexer": "ipython3",
   "version": "3.7.3"
  }
 },
 "nbformat": 4,
 "nbformat_minor": 2
}
