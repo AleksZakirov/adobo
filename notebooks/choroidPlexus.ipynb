{
 "cells": [
  {
   "cell_type": "markdown",
   "metadata": {},
   "source": [
    "# Sample data from the Choroid plexus\n",
    "Data comes from [GEO (GSM3687214)](https://www.ncbi.nlm.nih.gov/geo/query/acc.cgi?acc=GSM3687214), and the data are included the the default adobo installation.\n",
    "\n",
    "First we need to load the Python package:"
   ]
  },
  {
   "cell_type": "code",
   "execution_count": 1,
   "metadata": {},
   "outputs": [
    {
     "name": "stdout",
     "output_type": "stream",
     "text": [
      "adobo version 0.2.38. Documentation: https://oscar-franzen.github.io/adobo/\n"
     ]
    }
   ],
   "source": [
    "import adobo as ad"
   ]
  },
  {
   "cell_type": "markdown",
   "metadata": {},
   "source": [
    "### Load the gene expression data\n",
    "The parameter `bundled=True` makes adobo aware that this dataset is sample data and the user does not need to worry about paths. The `desc` parameter can be used to set a description of the dataset, can be a long description or a mnemonic. The `verbose=True` can be omitted, but instructs adobo to be more talkative. The `output_file` is a parameter we can use to set a filename where the object is saved as default. If `output_file` is set, then we can at anytime call the object function `save` to save the entire object to this file."
   ]
  },
  {
   "cell_type": "code",
   "execution_count": 5,
   "metadata": {},
   "outputs": [
    {
     "name": "stdout",
     "output_type": "stream",
     "text": [
      "Using a sparse matrix structure, please wait\n",
      "Generating cell summary statistics...\n",
      "Memory usage of loaded data: 83.51 MB\n",
      "27,998 genes and 4,055 cells were loaded\n",
      "loading took 0.2 minutes\n"
     ]
    }
   ],
   "source": [
    "exp = ad.IO.load_from_file('GSM3687214_countTable_K11_choroidPlexus_wt.txt.gz',\n",
    "                           output_file='GSM3687214.joblib',\n",
    "                           desc='Sample data (GSM3687214; Choroid plexus)',\n",
    "                           bundled=True,\n",
    "                           verbose=True)\n",
    "# save the entire data object to \"GSM3687214.joblib\"\n",
    "exp.save()"
   ]
  },
  {
   "cell_type": "markdown",
   "metadata": {},
   "source": [
    "It's always a good idea to quickly inspect that the data were loaded properly."
   ]
  },
  {
   "cell_type": "code",
   "execution_count": 6,
   "metadata": {},
   "outputs": [
    {
     "data": {
      "text/plain": [
       "Filename (input): /home/rand/.local/lib/python3.7/site-packages/adobo/data/GSM3687214_countTable_K11_choroidPlexus_wt.txt.gz\n",
       "Description: Sample data (GSM3687214; Choroid plexus)\n",
       "Raw count matrix: 27,998 genes and 4,055 cells (filtered: 27,998x4,055)\n",
       "\n",
       "Commands executed:\n",
       "\n",
       "Normalizations available:\n",
       "\n",
       "norm_data structure:\n"
      ]
     },
     "execution_count": 6,
     "metadata": {},
     "output_type": "execute_result"
    }
   ],
   "source": [
    "exp"
   ]
  },
  {
   "cell_type": "markdown",
   "metadata": {},
   "source": [
    "The data matrix consists of 27,998 genes and 4,055 cells. Let's also inspect the raw read counts:"
   ]
  },
  {
   "cell_type": "code",
   "execution_count": 9,
   "metadata": {},
   "outputs": [
    {
     "data": {
      "text/html": [
       "<div>\n",
       "<style scoped>\n",
       "    .dataframe tbody tr th:only-of-type {\n",
       "        vertical-align: middle;\n",
       "    }\n",
       "\n",
       "    .dataframe tbody tr th {\n",
       "        vertical-align: top;\n",
       "    }\n",
       "\n",
       "    .dataframe thead th {\n",
       "        text-align: right;\n",
       "    }\n",
       "</style>\n",
       "<table border=\"1\" class=\"dataframe\">\n",
       "  <thead>\n",
       "    <tr style=\"text-align: right;\">\n",
       "      <th></th>\n",
       "      <th>AAACCTGAGAAGGTGA</th>\n",
       "      <th>AAACCTGAGCCAGTTT</th>\n",
       "      <th>AAACCTGAGTGTTGAA</th>\n",
       "      <th>AAACCTGCAATCTACG</th>\n",
       "      <th>AAACCTGCACGCGAAA</th>\n",
       "      <th>AAACCTGGTAAATACG</th>\n",
       "      <th>AAACCTGGTCTAGAGG</th>\n",
       "      <th>AAACCTGGTCTGCAAT</th>\n",
       "      <th>AAACCTGGTTATCACG</th>\n",
       "      <th>AAACCTGGTTCACCTC</th>\n",
       "      <th>...</th>\n",
       "      <th>TTTGTCAAGGCATGGT</th>\n",
       "      <th>TTTGTCAAGTATTGGA</th>\n",
       "      <th>TTTGTCAAGTGACTCT</th>\n",
       "      <th>TTTGTCACAGACGCAA</th>\n",
       "      <th>TTTGTCAGTACCGTAT</th>\n",
       "      <th>TTTGTCAGTCTTCAAG</th>\n",
       "      <th>TTTGTCATCGCCGTGA</th>\n",
       "      <th>TTTGTCATCGCGTTTC</th>\n",
       "      <th>TTTGTCATCTCCGGTT</th>\n",
       "      <th>TTTGTCATCTTGAGGT</th>\n",
       "    </tr>\n",
       "    <tr>\n",
       "      <th>C0</th>\n",
       "      <th></th>\n",
       "      <th></th>\n",
       "      <th></th>\n",
       "      <th></th>\n",
       "      <th></th>\n",
       "      <th></th>\n",
       "      <th></th>\n",
       "      <th></th>\n",
       "      <th></th>\n",
       "      <th></th>\n",
       "      <th></th>\n",
       "      <th></th>\n",
       "      <th></th>\n",
       "      <th></th>\n",
       "      <th></th>\n",
       "      <th></th>\n",
       "      <th></th>\n",
       "      <th></th>\n",
       "      <th></th>\n",
       "      <th></th>\n",
       "      <th></th>\n",
       "    </tr>\n",
       "  </thead>\n",
       "  <tbody>\n",
       "    <tr>\n",
       "      <th>Xkr4</th>\n",
       "      <td>0</td>\n",
       "      <td>0</td>\n",
       "      <td>0</td>\n",
       "      <td>0</td>\n",
       "      <td>0</td>\n",
       "      <td>0</td>\n",
       "      <td>0</td>\n",
       "      <td>0</td>\n",
       "      <td>0</td>\n",
       "      <td>0</td>\n",
       "      <td>...</td>\n",
       "      <td>0</td>\n",
       "      <td>0</td>\n",
       "      <td>0</td>\n",
       "      <td>0</td>\n",
       "      <td>0</td>\n",
       "      <td>0</td>\n",
       "      <td>0</td>\n",
       "      <td>0</td>\n",
       "      <td>0</td>\n",
       "      <td>0</td>\n",
       "    </tr>\n",
       "    <tr>\n",
       "      <th>Gm1992</th>\n",
       "      <td>0</td>\n",
       "      <td>0</td>\n",
       "      <td>0</td>\n",
       "      <td>0</td>\n",
       "      <td>0</td>\n",
       "      <td>0</td>\n",
       "      <td>0</td>\n",
       "      <td>0</td>\n",
       "      <td>0</td>\n",
       "      <td>0</td>\n",
       "      <td>...</td>\n",
       "      <td>0</td>\n",
       "      <td>0</td>\n",
       "      <td>0</td>\n",
       "      <td>0</td>\n",
       "      <td>0</td>\n",
       "      <td>0</td>\n",
       "      <td>0</td>\n",
       "      <td>0</td>\n",
       "      <td>0</td>\n",
       "      <td>0</td>\n",
       "    </tr>\n",
       "    <tr>\n",
       "      <th>Gm37381</th>\n",
       "      <td>0</td>\n",
       "      <td>0</td>\n",
       "      <td>0</td>\n",
       "      <td>0</td>\n",
       "      <td>0</td>\n",
       "      <td>0</td>\n",
       "      <td>0</td>\n",
       "      <td>0</td>\n",
       "      <td>0</td>\n",
       "      <td>0</td>\n",
       "      <td>...</td>\n",
       "      <td>0</td>\n",
       "      <td>0</td>\n",
       "      <td>0</td>\n",
       "      <td>0</td>\n",
       "      <td>0</td>\n",
       "      <td>0</td>\n",
       "      <td>0</td>\n",
       "      <td>0</td>\n",
       "      <td>0</td>\n",
       "      <td>0</td>\n",
       "    </tr>\n",
       "    <tr>\n",
       "      <th>Rp1</th>\n",
       "      <td>0</td>\n",
       "      <td>0</td>\n",
       "      <td>0</td>\n",
       "      <td>0</td>\n",
       "      <td>0</td>\n",
       "      <td>0</td>\n",
       "      <td>0</td>\n",
       "      <td>0</td>\n",
       "      <td>0</td>\n",
       "      <td>0</td>\n",
       "      <td>...</td>\n",
       "      <td>0</td>\n",
       "      <td>0</td>\n",
       "      <td>0</td>\n",
       "      <td>0</td>\n",
       "      <td>0</td>\n",
       "      <td>0</td>\n",
       "      <td>0</td>\n",
       "      <td>0</td>\n",
       "      <td>0</td>\n",
       "      <td>0</td>\n",
       "    </tr>\n",
       "    <tr>\n",
       "      <th>Rp1.1</th>\n",
       "      <td>0</td>\n",
       "      <td>0</td>\n",
       "      <td>0</td>\n",
       "      <td>0</td>\n",
       "      <td>0</td>\n",
       "      <td>0</td>\n",
       "      <td>0</td>\n",
       "      <td>0</td>\n",
       "      <td>0</td>\n",
       "      <td>0</td>\n",
       "      <td>...</td>\n",
       "      <td>0</td>\n",
       "      <td>0</td>\n",
       "      <td>0</td>\n",
       "      <td>0</td>\n",
       "      <td>0</td>\n",
       "      <td>0</td>\n",
       "      <td>0</td>\n",
       "      <td>0</td>\n",
       "      <td>0</td>\n",
       "      <td>0</td>\n",
       "    </tr>\n",
       "    <tr>\n",
       "      <th>...</th>\n",
       "      <td>...</td>\n",
       "      <td>...</td>\n",
       "      <td>...</td>\n",
       "      <td>...</td>\n",
       "      <td>...</td>\n",
       "      <td>...</td>\n",
       "      <td>...</td>\n",
       "      <td>...</td>\n",
       "      <td>...</td>\n",
       "      <td>...</td>\n",
       "      <td>...</td>\n",
       "      <td>...</td>\n",
       "      <td>...</td>\n",
       "      <td>...</td>\n",
       "      <td>...</td>\n",
       "      <td>...</td>\n",
       "      <td>...</td>\n",
       "      <td>...</td>\n",
       "      <td>...</td>\n",
       "      <td>...</td>\n",
       "      <td>...</td>\n",
       "    </tr>\n",
       "    <tr>\n",
       "      <th>AC168977.1</th>\n",
       "      <td>0</td>\n",
       "      <td>0</td>\n",
       "      <td>0</td>\n",
       "      <td>0</td>\n",
       "      <td>0</td>\n",
       "      <td>0</td>\n",
       "      <td>0</td>\n",
       "      <td>0</td>\n",
       "      <td>0</td>\n",
       "      <td>0</td>\n",
       "      <td>...</td>\n",
       "      <td>0</td>\n",
       "      <td>0</td>\n",
       "      <td>0</td>\n",
       "      <td>0</td>\n",
       "      <td>1</td>\n",
       "      <td>0</td>\n",
       "      <td>0</td>\n",
       "      <td>0</td>\n",
       "      <td>0</td>\n",
       "      <td>0</td>\n",
       "    </tr>\n",
       "    <tr>\n",
       "      <th>PISD</th>\n",
       "      <td>1</td>\n",
       "      <td>1</td>\n",
       "      <td>0</td>\n",
       "      <td>2</td>\n",
       "      <td>0</td>\n",
       "      <td>1</td>\n",
       "      <td>0</td>\n",
       "      <td>0</td>\n",
       "      <td>0</td>\n",
       "      <td>0</td>\n",
       "      <td>...</td>\n",
       "      <td>0</td>\n",
       "      <td>0</td>\n",
       "      <td>1</td>\n",
       "      <td>6</td>\n",
       "      <td>3</td>\n",
       "      <td>0</td>\n",
       "      <td>1</td>\n",
       "      <td>1</td>\n",
       "      <td>1</td>\n",
       "      <td>1</td>\n",
       "    </tr>\n",
       "    <tr>\n",
       "      <th>DHRSX</th>\n",
       "      <td>0</td>\n",
       "      <td>0</td>\n",
       "      <td>0</td>\n",
       "      <td>0</td>\n",
       "      <td>0</td>\n",
       "      <td>0</td>\n",
       "      <td>0</td>\n",
       "      <td>0</td>\n",
       "      <td>1</td>\n",
       "      <td>0</td>\n",
       "      <td>...</td>\n",
       "      <td>0</td>\n",
       "      <td>0</td>\n",
       "      <td>0</td>\n",
       "      <td>0</td>\n",
       "      <td>0</td>\n",
       "      <td>0</td>\n",
       "      <td>0</td>\n",
       "      <td>0</td>\n",
       "      <td>0</td>\n",
       "      <td>0</td>\n",
       "    </tr>\n",
       "    <tr>\n",
       "      <th>Vmn2r122</th>\n",
       "      <td>0</td>\n",
       "      <td>0</td>\n",
       "      <td>0</td>\n",
       "      <td>0</td>\n",
       "      <td>0</td>\n",
       "      <td>0</td>\n",
       "      <td>0</td>\n",
       "      <td>0</td>\n",
       "      <td>0</td>\n",
       "      <td>0</td>\n",
       "      <td>...</td>\n",
       "      <td>0</td>\n",
       "      <td>0</td>\n",
       "      <td>0</td>\n",
       "      <td>0</td>\n",
       "      <td>0</td>\n",
       "      <td>0</td>\n",
       "      <td>0</td>\n",
       "      <td>0</td>\n",
       "      <td>0</td>\n",
       "      <td>0</td>\n",
       "    </tr>\n",
       "    <tr>\n",
       "      <th>CAAA01147332.1</th>\n",
       "      <td>0</td>\n",
       "      <td>0</td>\n",
       "      <td>0</td>\n",
       "      <td>0</td>\n",
       "      <td>0</td>\n",
       "      <td>0</td>\n",
       "      <td>0</td>\n",
       "      <td>0</td>\n",
       "      <td>0</td>\n",
       "      <td>0</td>\n",
       "      <td>...</td>\n",
       "      <td>0</td>\n",
       "      <td>0</td>\n",
       "      <td>0</td>\n",
       "      <td>0</td>\n",
       "      <td>0</td>\n",
       "      <td>0</td>\n",
       "      <td>0</td>\n",
       "      <td>0</td>\n",
       "      <td>0</td>\n",
       "      <td>0</td>\n",
       "    </tr>\n",
       "  </tbody>\n",
       "</table>\n",
       "<p>27998 rows × 4055 columns</p>\n",
       "</div>"
      ],
      "text/plain": [
       "                AAACCTGAGAAGGTGA  AAACCTGAGCCAGTTT  AAACCTGAGTGTTGAA  \\\n",
       "C0                                                                     \n",
       "Xkr4                           0                 0                 0   \n",
       "Gm1992                         0                 0                 0   \n",
       "Gm37381                        0                 0                 0   \n",
       "Rp1                            0                 0                 0   \n",
       "Rp1.1                          0                 0                 0   \n",
       "...                          ...               ...               ...   \n",
       "AC168977.1                     0                 0                 0   \n",
       "PISD                           1                 1                 0   \n",
       "DHRSX                          0                 0                 0   \n",
       "Vmn2r122                       0                 0                 0   \n",
       "CAAA01147332.1                 0                 0                 0   \n",
       "\n",
       "                AAACCTGCAATCTACG  AAACCTGCACGCGAAA  AAACCTGGTAAATACG  \\\n",
       "C0                                                                     \n",
       "Xkr4                           0                 0                 0   \n",
       "Gm1992                         0                 0                 0   \n",
       "Gm37381                        0                 0                 0   \n",
       "Rp1                            0                 0                 0   \n",
       "Rp1.1                          0                 0                 0   \n",
       "...                          ...               ...               ...   \n",
       "AC168977.1                     0                 0                 0   \n",
       "PISD                           2                 0                 1   \n",
       "DHRSX                          0                 0                 0   \n",
       "Vmn2r122                       0                 0                 0   \n",
       "CAAA01147332.1                 0                 0                 0   \n",
       "\n",
       "                AAACCTGGTCTAGAGG  AAACCTGGTCTGCAAT  AAACCTGGTTATCACG  \\\n",
       "C0                                                                     \n",
       "Xkr4                           0                 0                 0   \n",
       "Gm1992                         0                 0                 0   \n",
       "Gm37381                        0                 0                 0   \n",
       "Rp1                            0                 0                 0   \n",
       "Rp1.1                          0                 0                 0   \n",
       "...                          ...               ...               ...   \n",
       "AC168977.1                     0                 0                 0   \n",
       "PISD                           0                 0                 0   \n",
       "DHRSX                          0                 0                 1   \n",
       "Vmn2r122                       0                 0                 0   \n",
       "CAAA01147332.1                 0                 0                 0   \n",
       "\n",
       "                AAACCTGGTTCACCTC  ...  TTTGTCAAGGCATGGT  TTTGTCAAGTATTGGA  \\\n",
       "C0                                ...                                       \n",
       "Xkr4                           0  ...                 0                 0   \n",
       "Gm1992                         0  ...                 0                 0   \n",
       "Gm37381                        0  ...                 0                 0   \n",
       "Rp1                            0  ...                 0                 0   \n",
       "Rp1.1                          0  ...                 0                 0   \n",
       "...                          ...  ...               ...               ...   \n",
       "AC168977.1                     0  ...                 0                 0   \n",
       "PISD                           0  ...                 0                 0   \n",
       "DHRSX                          0  ...                 0                 0   \n",
       "Vmn2r122                       0  ...                 0                 0   \n",
       "CAAA01147332.1                 0  ...                 0                 0   \n",
       "\n",
       "                TTTGTCAAGTGACTCT  TTTGTCACAGACGCAA  TTTGTCAGTACCGTAT  \\\n",
       "C0                                                                     \n",
       "Xkr4                           0                 0                 0   \n",
       "Gm1992                         0                 0                 0   \n",
       "Gm37381                        0                 0                 0   \n",
       "Rp1                            0                 0                 0   \n",
       "Rp1.1                          0                 0                 0   \n",
       "...                          ...               ...               ...   \n",
       "AC168977.1                     0                 0                 1   \n",
       "PISD                           1                 6                 3   \n",
       "DHRSX                          0                 0                 0   \n",
       "Vmn2r122                       0                 0                 0   \n",
       "CAAA01147332.1                 0                 0                 0   \n",
       "\n",
       "                TTTGTCAGTCTTCAAG  TTTGTCATCGCCGTGA  TTTGTCATCGCGTTTC  \\\n",
       "C0                                                                     \n",
       "Xkr4                           0                 0                 0   \n",
       "Gm1992                         0                 0                 0   \n",
       "Gm37381                        0                 0                 0   \n",
       "Rp1                            0                 0                 0   \n",
       "Rp1.1                          0                 0                 0   \n",
       "...                          ...               ...               ...   \n",
       "AC168977.1                     0                 0                 0   \n",
       "PISD                           0                 1                 1   \n",
       "DHRSX                          0                 0                 0   \n",
       "Vmn2r122                       0                 0                 0   \n",
       "CAAA01147332.1                 0                 0                 0   \n",
       "\n",
       "                TTTGTCATCTCCGGTT  TTTGTCATCTTGAGGT  \n",
       "C0                                                  \n",
       "Xkr4                           0                 0  \n",
       "Gm1992                         0                 0  \n",
       "Gm37381                        0                 0  \n",
       "Rp1                            0                 0  \n",
       "Rp1.1                          0                 0  \n",
       "...                          ...               ...  \n",
       "AC168977.1                     0                 0  \n",
       "PISD                           1                 1  \n",
       "DHRSX                          0                 0  \n",
       "Vmn2r122                       0                 0  \n",
       "CAAA01147332.1                 0                 0  \n",
       "\n",
       "[27998 rows x 4055 columns]"
      ]
     },
     "execution_count": 9,
     "metadata": {},
     "output_type": "execute_result"
    }
   ],
   "source": [
    "exp.count_data"
   ]
  },
  {
   "cell_type": "markdown",
   "metadata": {},
   "source": [
    "`count_data` is a [Pandas](https://pandas.pydata.org/) data frame. By default the data frame is sparse."
   ]
  },
  {
   "cell_type": "markdown",
   "metadata": {},
   "source": [
    "### Generate summary plots and identify quality thresholds"
   ]
  },
  {
   "cell_type": "markdown",
   "metadata": {},
   "source": [
    "Using these plots we can identify outlier cells and identify thresholds for removing uninformative genes. A good start is to plot the total read counts per cell."
   ]
  },
  {
   "cell_type": "code",
   "execution_count": 10,
   "metadata": {},
   "outputs": [
    {
     "data": {
      "image/png": "[encoded data removed]",
      "text/plain": [
       "<Figure size 360x360 with 1 Axes>"
      ]
     },
     "metadata": {
      "needs_background": "light"
     },
     "output_type": "display_data"
    }
   ],
   "source": [
    "ad.plotting.overall(exp)"
   ]
  },
  {
   "cell_type": "markdown",
   "metadata": {},
   "source": [
    "From the above histogram we can see that a few cells have excessive read counts. Let's count the the numbers of cells with at least 20,000 reads per cell:"
   ]
  },
  {
   "cell_type": "code",
   "execution_count": 11,
   "metadata": {},
   "outputs": [
    {
     "data": {
      "image/png": "[encoded data removed]",
      "text/plain": [
       "<Figure size 360x360 with 1 Axes>"
      ]
     },
     "metadata": {
      "needs_background": "light"
     },
     "output_type": "display_data"
    }
   ],
   "source": [
    "ad.plotting.overall(exp, cut_off=20000)"
   ]
  },
  {
   "cell_type": "markdown",
   "metadata": {},
   "source": [
    "We can see that 38 cells are above the cut off, and we can decide to remove them later. But let's first explore how many genes are expressed per cell:"
   ]
  },
  {
   "cell_type": "code",
   "execution_count": 14,
   "metadata": {},
   "outputs": [
    {
     "data": {
      "image/png": "[encoded data removed]",
      "text/plain": [
       "<Figure size 360x360 with 1 Axes>"
      ]
     },
     "metadata": {
      "needs_background": "light"
     },
     "output_type": "display_data"
    }
   ],
   "source": [
    "ad.plotting.overall(exp, what='genes')"
   ]
  },
  {
   "cell_type": "code",
   "execution_count": 15,
   "metadata": {},
   "outputs": [
    {
     "data": {
      "image/png": "[encoded data removed]",
      "text/plain": [
       "<Figure size 360x360 with 1 Axes>"
      ]
     },
     "metadata": {
      "needs_background": "light"
     },
     "output_type": "display_data"
    }
   ],
   "source": [
    "ad.plotting.overall(exp, what='genes', cut_off=4000)"
   ]
  },
  {
   "cell_type": "code",
   "execution_count": null,
   "metadata": {},
   "outputs": [],
   "source": []
  }
 ],
 "metadata": {
  "kernelspec": {
   "display_name": "Python 3",
   "language": "python",
   "name": "python3"
  },
  "language_info": {
   "codemirror_mode": {
    "name": "ipython",
    "version": 3
   },
   "file_extension": ".py",
   "mimetype": "text/x-python",
   "name": "python",
   "nbconvert_exporter": "python",
   "pygments_lexer": "ipython3",
   "version": "3.7.3"
  }
 },
 "nbformat": 4,
 "nbformat_minor": 2
}
